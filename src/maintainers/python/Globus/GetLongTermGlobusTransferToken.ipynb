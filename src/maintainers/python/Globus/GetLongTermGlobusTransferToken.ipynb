{
 "cells": [
  {
   "cell_type": "markdown",
   "id": "brilliant-forward",
   "metadata": {},
   "source": [
    "# Goto https://globus-sdk-python.readthedocs.io/en/stable/tutorial.html#first-steps\n",
    "\n",
    "# Finish Step 1 and 2\n",
    "\n",
    "# Save CLIENT_ID"
   ]
  },
  {
   "cell_type": "code",
   "execution_count": null,
   "id": "expired-reviewer",
   "metadata": {},
   "outputs": [],
   "source": [
    "import sys\n",
    "!{sys.executable} -m pip install globus-sdk"
   ]
  },
  {
   "cell_type": "code",
   "execution_count": null,
   "id": "incorporated-details",
   "metadata": {},
   "outputs": [],
   "source": [
    "import globus_sdk\n",
    "\n",
    "CLIENT_ID = \"b6b3ffb1-bf21-4a3e-ad91-a91a8f4e71ab\"\n",
    "\n",
    "client = globus_sdk.NativeAppAuthClient(CLIENT_ID)\n",
    "client.oauth2_start_flow(refresh_tokens=True)\n",
    "\n",
    "authorize_url = client.oauth2_get_authorize_url()\n",
    "print(\"Please go to this URL and login: {0}\".format(authorize_url))\n",
    "\n",
    "auth_code = input(\"Please enter the code you get after login here: \").strip()\n",
    "token_response = client.oauth2_exchange_code_for_tokens(auth_code)\n",
    "\n",
    "globus_auth_data = token_response.by_resource_server[\"auth.globus.org\"]\n",
    "globus_transfer_data = token_response.by_resource_server[\"transfer.api.globus.org\"]"
   ]
  },
  {
   "cell_type": "markdown",
   "id": "plain-migration",
   "metadata": {},
   "source": [
    "# This is the long term transfer token (sensitive info)"
   ]
  },
  {
   "cell_type": "code",
   "execution_count": null,
   "id": "reverse-montana",
   "metadata": {},
   "outputs": [],
   "source": [
    "long_term_transfer_token = globus_transfer_data[\"refresh_token\"]\n",
    "long_term_transfer_token"
   ]
  },
  {
   "cell_type": "markdown",
   "id": "massive-wagner",
   "metadata": {},
   "source": [
    "# Test data transfer from Expanse/Comet to CJW NFS (optional)"
   ]
  },
  {
   "cell_type": "code",
   "execution_count": null,
   "id": "ordered-cholesterol",
   "metadata": {},
   "outputs": [],
   "source": [
    "# Test long term transfer token\n",
    "## see: https://globus-sdk-python.readthedocs.io/en/stable/examples/advanced_transfer.html\n",
    "\n",
    "import logging\n",
    "from globus_sdk import GlobusAPIError, NetworkError\n",
    "\n",
    "# putting logger objects named by the module name into the module-level\n",
    "# scope is a common best practice -- for more details, you should look\n",
    "# into the python logging documentation\n",
    "logger = logging.getLogger(__name__)\n",
    "\n",
    "\n",
    "def retry_globus_function(func, retries=5, func_name=\"<func>\"):\n",
    "    \"\"\"\n",
    "    Define what it means to retry a \"Globus Function\", some function or\n",
    "    method which produces Globus SDK errors on failure.\n",
    "    \"\"\"\n",
    "\n",
    "    def actually_retry():\n",
    "        \"\"\"\n",
    "        Helper: run the next retry\n",
    "        \"\"\"\n",
    "        return retry_globus_function(func, retries=(retries - 1), func_name=func_name)\n",
    "\n",
    "    def check_for_reraise():\n",
    "        \"\"\"\n",
    "        Helper: check if we should reraise an error\n",
    "                logs an error message on reraise\n",
    "                must be run inside an exception handler\n",
    "        \"\"\"\n",
    "        if retries < 1:\n",
    "            logger.error(\"Retried {} too many times.\".format(func_name))\n",
    "            raise\n",
    "\n",
    "    try:\n",
    "        return func()\n",
    "    except NetworkError:\n",
    "        # log with exc_info=True to capture a full stacktrace as a\n",
    "        # debug-level log\n",
    "        logger.debug(\n",
    "            (\"Globus func {} experienced a network error\".format(func_name)),\n",
    "            exc_info=True,\n",
    "        )\n",
    "        check_for_reraise()\n",
    "    except GlobusAPIError:\n",
    "        # again, log with exc_info=True to capture a full stacktrace\n",
    "        logger.warn(\n",
    "            (\"Globus func {} experienced a network error\".format(func_name)),\n",
    "            exc_info=True,\n",
    "        )\n",
    "        check_for_reraise()\n",
    "\n",
    "    # if we reach this point without returning or erroring, retry\n",
    "    return actually_retry()\n",
    "\n",
    "def submit_transfer_with_retries(transfer_client, transfer_data):\n",
    "    # create a function with no arguments, for our retry handler\n",
    "    def locally_bound_func():\n",
    "        return transfer_client.submit_transfer(transfer_data)\n",
    "\n",
    "    return retry_globus_function(locally_bound_func, func_name=\"submit_transfer\")"
   ]
  },
  {
   "cell_type": "code",
   "execution_count": null,
   "id": "color-cycle",
   "metadata": {},
   "outputs": [],
   "source": [
    "client = globus_sdk.NativeAppAuthClient(CLIENT_ID)\n",
    "authorizer = globus_sdk.RefreshTokenAuthorizer(\n",
    "    long_term_transfer_token, client,\n",
    ")\n",
    "tc = globus_sdk.TransferClient(authorizer=authorizer)\n",
    "# Expanse/Comet\n",
    "source_endpoint_id = \"b256c034-1578-11eb-893e-0a5521ff3f4b\"\n",
    "# CJW-NFS-On-Jetstream\n",
    "destination_endpoint_id = \"4a874b58-ebde-11eb-ab62-d195c983855c\"\n",
    "\n",
    "tdata = globus_sdk.TransferData(tc, source_endpoint_id,\n",
    "                                 destination_endpoint_id,\n",
    "                                 label=\"Test Transfer\",\n",
    "                                 sync_level=\"checksum\")\n",
    "tdata.add_item(\"/~/comet_folder\", \"/~/vol_b/notebook_home_data/drew/\",\n",
    "                recursive=True)\n",
    "transfer_result = submit_transfer_with_retries(tc, tdata)\n",
    "task_id = transfer_result[\"task_id\"]\n",
    "print(\"task_id =\", transfer_result[\"task_id\"])"
   ]
  },
  {
   "cell_type": "code",
   "execution_count": null,
   "id": "french-clinton",
   "metadata": {},
   "outputs": [],
   "source": [
    "# see: https://github.com/globus/globus-jupyter-notebooks\n",
    "response = tc.get_task(task_id)\n",
    "response.data[\"status\"] "
   ]
  },
  {
   "cell_type": "markdown",
   "id": "derived-hepatitis",
   "metadata": {},
   "source": [
    "# Go to https://app.globus.org/ to check job activity"
   ]
  },
  {
   "cell_type": "markdown",
   "id": "careful-captain",
   "metadata": {},
   "source": [
    "# Put token on CyberGIS-Compute Server\n",
    "\n",
    "# Clean up this notebook to remove all sensitive info"
   ]
  },
  {
   "cell_type": "code",
   "execution_count": null,
   "id": "impaired-brush",
   "metadata": {},
   "outputs": [],
   "source": []
  }
 ],
 "metadata": {
  "kernelspec": {
   "display_name": "Python 3",
   "language": "python",
   "name": "python3"
  },
  "language_info": {
   "codemirror_mode": {
    "name": "ipython",
    "version": 3
   },
   "file_extension": ".py",
   "mimetype": "text/x-python",
   "name": "python",
   "nbconvert_exporter": "python",
   "pygments_lexer": "ipython3",
   "version": "3.7.9"
  }
 },
 "nbformat": 4,
 "nbformat_minor": 5
}
